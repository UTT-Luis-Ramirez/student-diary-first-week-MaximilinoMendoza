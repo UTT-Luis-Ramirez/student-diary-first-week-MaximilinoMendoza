{
  "nbformat": 4,
  "nbformat_minor": 0,
  "metadata": {
    "colab": {
      "provenance": [],
      "toc_visible": true
    },
    "kernelspec": {
      "name": "python3",
      "display_name": "Python 3"
    },
    "language_info": {
      "name": "python"
    }
  },
  "cells": [
    {
      "cell_type": "code",
      "source": [],
      "metadata": {
        "id": "W2vSAK3RxZ2Y"
      },
      "execution_count": null,
      "outputs": []
    },
    {
      "cell_type": "markdown",
      "source": [
        "Clase 1\n",
        "\n",
        "Termino----¿Que es?-----¿Que deseo saber?----- ¿Que aprendi?\n",
        "\n",
        "*   Estadistica:Es un dato que se utiliza para describir una caracteristica o un dato\n",
        "*   Dato:es la informacion que se utiliza para describir o representar un hecho\n",
        "*   Conjuntos: es la coleccion de analisis que se utiliza para describir\n",
        "*   Axiomas: es uan afirmacion que se considera verdader sin necesidad de demostarla\n",
        "*   Probabilidad es una posibilidad que ocurra un evento o un resultado\n",
        "*   Eventos:es un posible resultado que puede ocurrir en donde sea\n",
        "\n",
        "\n",
        "\n",
        "\n",
        "\n",
        "\n"
      ],
      "metadata": {
        "id": "qPAl3pr_g8C1"
      }
    },
    {
      "cell_type": "markdown",
      "source": [
        "Clase 2\n",
        "\n",
        "La estadistiaca es la formacion y compresion de patrones que nos ayuda a saber si hay una posible alteracion o una disminuicion en los datos y nos ayuda acomprenderlos y analisarlos de una mejor manera y estas se separan en  dos ramas la descriptiva y la inferencial la descriptiva esta compuesta de medidas centrales, dispersiones y apoyo grafico.\n",
        "*    Pasos para realizar una estadistica descriptiva: 1- recoleccion y organizacion de la informacion. 2- El calculo de medidas descriptivas. 3- Presentacion de los datos. 4- Analisis de identificacion de patrones y relaciones. Tercia central Media, mediana,moda y media geometrica.Las cuales contienen: dispersion, rango, varianza, desviacion estandar coeficiente de verificacion, medida de posicionamiento, deciles, cuartiles y percentiles.\n",
        "\n",
        "la estadistica interferencial es un metodo y tecnicas utilizadas para hacer generalizaciones ,predicciones y estimaciones que se utilizan para transformar la informacion en conocimiento\n",
        "*    Pasos para realizar una estadistica inferencial 1-Estimar parametros. 2-Hipotesis y su prueba. 3-Generar intervalos de confianza. 4-Modelado estadistico.\n",
        "\n",
        "El Trabajo que hizo mi equipo:area: rendimiento de un sistema\n",
        " buscamos rendimiento y evitar los cuellos de botella\n",
        "\n",
        " Comenzamos con el analisis en el rendimiento del sistema, comparando el proceso y actual, con el proceso obtenido anteriormente, para obtener una media del mismo, abriendo posibilidad de observar un cuello de botella.\n",
        "\n",
        " Los datos mas importantes que podemos analizar en este caso, son:\n",
        "\n",
        " -el rendimiento anterior y el actual\n",
        " -mapeo de procesos\n",
        " -analisis de tiempo en procesos\n",
        " -procesos en primer y sengudo plano\n",
        "\n"
      ],
      "metadata": {
        "id": "S-X5ogPIxYwo"
      }
    },
    {
      "cell_type": "code",
      "source": [],
      "metadata": {
        "id": "MYId2Iv76AR3"
      },
      "execution_count": null,
      "outputs": []
    }
  ]
}